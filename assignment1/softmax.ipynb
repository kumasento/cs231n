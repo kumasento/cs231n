{
 "cells": [
  {
   "cell_type": "markdown",
   "metadata": {},
   "source": [
    "# Softmax exercise\n",
    "\n",
    "*Complete and hand in this completed worksheet (including its outputs and any supporting code outside of the worksheet) with your assignment submission. For more details see the [assignments page](http://vision.stanford.edu/teaching/cs231n/assignments.html) on the course website.*\n",
    "\n",
    "This exercise is analogous to the SVM exercise. You will:\n",
    "\n",
    "- implement a fully-vectorized **loss function** for the Softmax classifier\n",
    "- implement the fully-vectorized expression for its **analytic gradient**\n",
    "- **check your implementation** with numerical gradient\n",
    "- use a validation set to **tune the learning rate and regularization** strength\n",
    "- **optimize** the loss function with **SGD**\n",
    "- **visualize** the final learned weights\n"
   ]
  },
  {
   "cell_type": "code",
   "execution_count": 2,
   "metadata": {
    "collapsed": false
   },
   "outputs": [],
   "source": [
    "import random\n",
    "import numpy as np\n",
    "from cs231n.data_utils import load_CIFAR10\n",
    "import matplotlib.pyplot as plt\n",
    "%matplotlib inline\n",
    "plt.rcParams['figure.figsize'] = (10.0, 8.0) # set default size of plots\n",
    "plt.rcParams['image.interpolation'] = 'nearest'\n",
    "plt.rcParams['image.cmap'] = 'gray'\n",
    "\n",
    "# for auto-reloading extenrnal modules\n",
    "# see http://stackoverflow.com/questions/1907993/autoreload-of-modules-in-ipython\n",
    "%load_ext autoreload\n",
    "%autoreload 2"
   ]
  },
  {
   "cell_type": "code",
   "execution_count": 3,
   "metadata": {
    "collapsed": false
   },
   "outputs": [
    {
     "name": "stdout",
     "output_type": "stream",
     "text": [
      "Train data shape:  (49000, 3073)\n",
      "Train labels shape:  (49000,)\n",
      "Validation data shape:  (1000, 3073)\n",
      "Validation labels shape:  (1000,)\n",
      "Test data shape:  (1000, 3073)\n",
      "Test labels shape:  (1000,)\n",
      "dev data shape:  (500, 3073)\n",
      "dev labels shape:  (500,)\n"
     ]
    }
   ],
   "source": [
    "def get_CIFAR10_data(num_training=49000, num_validation=1000, num_test=1000, num_dev=500):\n",
    "  \"\"\"\n",
    "  Load the CIFAR-10 dataset from disk and perform preprocessing to prepare\n",
    "  it for the linear classifier. These are the same steps as we used for the\n",
    "  SVM, but condensed to a single function.  \n",
    "  \"\"\"\n",
    "  # Load the raw CIFAR-10 data\n",
    "  cifar10_dir = 'cs231n/datasets/cifar-10-batches-py'\n",
    "  X_train, y_train, X_test, y_test = load_CIFAR10(cifar10_dir)\n",
    "  \n",
    "  # subsample the data\n",
    "  mask = range(num_training, num_training + num_validation)\n",
    "  X_val = X_train[mask]\n",
    "  y_val = y_train[mask]\n",
    "  mask = range(num_training)\n",
    "  X_train = X_train[mask]\n",
    "  y_train = y_train[mask]\n",
    "  mask = range(num_test)\n",
    "  X_test = X_test[mask]\n",
    "  y_test = y_test[mask]\n",
    "  mask = np.random.choice(num_training, num_dev, replace=False)\n",
    "  X_dev = X_train[mask]\n",
    "  y_dev = y_train[mask]\n",
    "  \n",
    "  # Preprocessing: reshape the image data into rows\n",
    "  X_train = np.reshape(X_train, (X_train.shape[0], -1))\n",
    "  X_val = np.reshape(X_val, (X_val.shape[0], -1))\n",
    "  X_test = np.reshape(X_test, (X_test.shape[0], -1))\n",
    "  X_dev = np.reshape(X_dev, (X_dev.shape[0], -1))\n",
    "  \n",
    "  # Normalize the data: subtract the mean image\n",
    "  mean_image = np.mean(X_train, axis = 0)\n",
    "  X_train -= mean_image\n",
    "  X_val -= mean_image\n",
    "  X_test -= mean_image\n",
    "  X_dev -= mean_image\n",
    "  \n",
    "  # add bias dimension and transform into columns\n",
    "  X_train = np.hstack([X_train, np.ones((X_train.shape[0], 1))])\n",
    "  X_val = np.hstack([X_val, np.ones((X_val.shape[0], 1))])\n",
    "  X_test = np.hstack([X_test, np.ones((X_test.shape[0], 1))])\n",
    "  X_dev = np.hstack([X_dev, np.ones((X_dev.shape[0], 1))])\n",
    "  \n",
    "  return X_train, y_train, X_val, y_val, X_test, y_test, X_dev, y_dev\n",
    "\n",
    "\n",
    "# Invoke the above function to get our data.\n",
    "X_train, y_train, X_val, y_val, X_test, y_test, X_dev, y_dev = get_CIFAR10_data()\n",
    "print 'Train data shape: ', X_train.shape\n",
    "print 'Train labels shape: ', y_train.shape\n",
    "print 'Validation data shape: ', X_val.shape\n",
    "print 'Validation labels shape: ', y_val.shape\n",
    "print 'Test data shape: ', X_test.shape\n",
    "print 'Test labels shape: ', y_test.shape\n",
    "print 'dev data shape: ', X_dev.shape\n",
    "print 'dev labels shape: ', y_dev.shape"
   ]
  },
  {
   "cell_type": "markdown",
   "metadata": {},
   "source": [
    "## Softmax Classifier\n",
    "\n",
    "Your code for this section will all be written inside **cs231n/classifiers/softmax.py**. \n"
   ]
  },
  {
   "cell_type": "code",
   "execution_count": 4,
   "metadata": {
    "collapsed": false,
    "scrolled": true
   },
   "outputs": [
    {
     "name": "stdout",
     "output_type": "stream",
     "text": [
      "loss: 2.404716\n",
      "sanity check: 2.302585\n"
     ]
    }
   ],
   "source": [
    "# First implement the naive softmax loss function with nested loops.\n",
    "# Open the file cs231n/classifiers/softmax.py and implement the\n",
    "# softmax_loss_naive function.\n",
    "\n",
    "from cs231n.classifiers.softmax import softmax_loss_naive\n",
    "import time\n",
    "\n",
    "# Generate a random softmax weight matrix and use it to compute the loss.\n",
    "W = np.random.randn(3073, 10) * 0.0001\n",
    "loss, grad = softmax_loss_naive(W, X_dev, y_dev, 0.0)\n",
    "\n",
    "# As a rough sanity check, our loss should be something close to -log(0.1).\n",
    "print 'loss: %f' % loss\n",
    "print 'sanity check: %f' % (-np.log(0.1))"
   ]
  },
  {
   "cell_type": "markdown",
   "metadata": {},
   "source": [
    "## Inline Question 1:\n",
    "Why do we expect our loss to be close to -log(0.1)? Explain briefly.**\n",
    "\n",
    "**Your answer:** We have 10 classes, and the largest probability will be something close to 1/10=0.1. Loss = -log(largest probability)\n"
   ]
  },
  {
   "cell_type": "code",
   "execution_count": 5,
   "metadata": {
    "collapsed": false
   },
   "outputs": [
    {
     "name": "stdout",
     "output_type": "stream",
     "text": [
      "numerical: 1.088642 analytic: 1.088642, relative error: 1.389606e-09\n",
      "numerical: -2.400821 analytic: -2.400821, relative error: 1.163428e-08\n",
      "numerical: 1.524866 analytic: 1.524865, relative error: 2.261362e-08\n",
      "numerical: 4.517297 analytic: 4.517297, relative error: 7.867367e-09\n",
      "numerical: -0.994919 analytic: -0.994919, relative error: 1.601364e-10\n",
      "numerical: -0.461237 analytic: -0.461237, relative error: 1.321134e-07\n",
      "numerical: -2.080369 analytic: -2.080369, relative error: 1.953605e-08\n",
      "numerical: 1.122946 analytic: 1.122945, relative error: 1.210304e-08\n",
      "numerical: -1.959385 analytic: -1.959385, relative error: 2.151632e-08\n",
      "numerical: 1.686322 analytic: 1.686322, relative error: 1.709346e-09\n",
      "numerical: -1.189418 analytic: -1.189418, relative error: 1.113752e-08\n",
      "numerical: 1.351378 analytic: 1.351378, relative error: 2.190637e-08\n",
      "numerical: 2.749562 analytic: 2.749562, relative error: 5.630018e-09\n",
      "numerical: -0.520495 analytic: -0.520495, relative error: 2.683822e-08\n",
      "numerical: -1.051666 analytic: -1.051666, relative error: 2.125155e-08\n",
      "numerical: 1.812275 analytic: 1.812275, relative error: 1.658353e-08\n",
      "numerical: -0.936804 analytic: -0.936804, relative error: 3.740447e-08\n",
      "numerical: 0.958544 analytic: 0.958544, relative error: 1.515921e-08\n",
      "numerical: -1.327499 analytic: -1.327499, relative error: 9.246164e-09\n",
      "numerical: -1.206760 analytic: -1.206760, relative error: 4.066030e-08\n"
     ]
    }
   ],
   "source": [
    "# Complete the implementation of softmax_loss_naive and implement a (naive)\n",
    "# version of the gradient that uses nested loops.\n",
    "loss, grad = softmax_loss_naive(W, X_dev, y_dev, 0.0)\n",
    "\n",
    "# As we did for the SVM, use numeric gradient checking as a debugging tool.\n",
    "# The numeric gradient should be close to the analytic gradient.\n",
    "from cs231n.gradient_check import grad_check_sparse\n",
    "f = lambda w: softmax_loss_naive(w, X_dev, y_dev, 0.0)[0]\n",
    "grad_numerical = grad_check_sparse(f, W, grad, 10)\n",
    "\n",
    "# similar to SVM case, do another gradient check with regularization\n",
    "loss, grad = softmax_loss_naive(W, X_dev, y_dev, 1e2)\n",
    "f = lambda w: softmax_loss_naive(w, X_dev, y_dev, 1e2)[0]\n",
    "grad_numerical = grad_check_sparse(f, W, grad, 10)"
   ]
  },
  {
   "cell_type": "code",
   "execution_count": 6,
   "metadata": {
    "collapsed": false,
    "scrolled": false
   },
   "outputs": [
    {
     "name": "stdout",
     "output_type": "stream",
     "text": [
      "naive loss: 2.404716e+00 computed in 0.134101s\n",
      "vectorized loss: 2.404716e+00 computed in 0.009721s\n",
      "Loss difference: 0.000000\n",
      "Gradient difference: 0.000000\n"
     ]
    }
   ],
   "source": [
    "# Now that we have a naive implementation of the softmax loss function and its gradient,\n",
    "# implement a vectorized version in softmax_loss_vectorized.\n",
    "# The two versions should compute the same results, but the vectorized version should be\n",
    "# much faster.\n",
    "tic = time.time()\n",
    "loss_naive, grad_naive = softmax_loss_naive(W, X_dev, y_dev, 0.00001)\n",
    "toc = time.time()\n",
    "print 'naive loss: %e computed in %fs' % (loss_naive, toc - tic)\n",
    "\n",
    "from cs231n.classifiers.softmax import softmax_loss_vectorized\n",
    "tic = time.time()\n",
    "loss_vectorized, grad_vectorized = softmax_loss_vectorized(W, X_dev, y_dev, 0.00001)\n",
    "toc = time.time()\n",
    "print 'vectorized loss: %e computed in %fs' % (loss_vectorized, toc - tic)\n",
    "\n",
    "# As we did for the SVM, we use the Frobenius norm to compare the two versions\n",
    "# of the gradient.\n",
    "grad_difference = np.linalg.norm(grad_naive - grad_vectorized, ord='fro')\n",
    "print 'Loss difference: %f' % np.abs(loss_naive - loss_vectorized)\n",
    "print 'Gradient difference: %f' % grad_difference"
   ]
  },
  {
   "cell_type": "code",
   "execution_count": 7,
   "metadata": {
    "collapsed": false
   },
   "outputs": [
    {
     "name": "stderr",
     "output_type": "stream",
     "text": [
      "cs231n/classifiers/softmax.py:92: RuntimeWarning: divide by zero encountered in log\n",
      "  losses = -np.log(losses)\n",
      "cs231n/classifiers/softmax.py:93: RuntimeWarning: overflow encountered in double_scalars\n",
      "  loss = np.mean(losses) + 0.5 * reg * np.sum(W * W)\n",
      "cs231n/classifiers/softmax.py:93: RuntimeWarning: overflow encountered in multiply\n",
      "  loss = np.mean(losses) + 0.5 * reg * np.sum(W * W)\n",
      "cs231n/classifiers/softmax.py:88: RuntimeWarning: overflow encountered in subtract\n",
      "  scores = (scores.T-np.max(scores, axis=1)).T\n",
      "cs231n/classifiers/softmax.py:88: RuntimeWarning: invalid value encountered in subtract\n",
      "  scores = (scores.T-np.max(scores, axis=1)).T\n",
      "cs231n/classifiers/softmax.py:109: RuntimeWarning: overflow encountered in multiply\n",
      "  dW += reg * W\n",
      "cs231n/classifiers/linear_classifier.py:73: RuntimeWarning: overflow encountered in multiply\n",
      "  self.W += - learning_rate * grad\n"
     ]
    },
    {
     "name": "stdout",
     "output_type": "stream",
     "text": [
      "lr 1.000000e-10 reg 1.000000e-03 train accuracy: 0.075735 val accuracy: 0.073000\n",
      "lr 1.000000e-10 reg 1.000000e-02 train accuracy: 0.095510 val accuracy: 0.095000\n",
      "lr 1.000000e-10 reg 1.000000e-01 train accuracy: 0.078245 val accuracy: 0.078000\n",
      "lr 1.000000e-10 reg 1.000000e+00 train accuracy: 0.120490 val accuracy: 0.111000\n",
      "lr 1.000000e-10 reg 1.000000e+01 train accuracy: 0.112143 val accuracy: 0.110000\n",
      "lr 1.000000e-10 reg 1.000000e+02 train accuracy: 0.111857 val accuracy: 0.111000\n",
      "lr 1.000000e-10 reg 1.000000e+03 train accuracy: 0.122878 val accuracy: 0.117000\n",
      "lr 1.000000e-10 reg 1.000000e+04 train accuracy: 0.086694 val accuracy: 0.077000\n",
      "lr 1.000000e-10 reg 1.000000e+05 train accuracy: 0.093857 val accuracy: 0.102000\n",
      "lr 1.000000e-10 reg 1.000000e+06 train accuracy: 0.093469 val accuracy: 0.101000\n",
      "lr 1.668101e-08 reg 1.000000e-03 train accuracy: 0.136245 val accuracy: 0.145000\n",
      "lr 1.668101e-08 reg 1.000000e-02 train accuracy: 0.116571 val accuracy: 0.107000\n",
      "lr 1.668101e-08 reg 1.000000e-01 train accuracy: 0.127796 val accuracy: 0.121000\n",
      "lr 1.668101e-08 reg 1.000000e+00 train accuracy: 0.078898 val accuracy: 0.097000\n",
      "lr 1.668101e-08 reg 1.000000e+01 train accuracy: 0.126551 val accuracy: 0.132000\n",
      "lr 1.668101e-08 reg 1.000000e+02 train accuracy: 0.079102 val accuracy: 0.075000\n",
      "lr 1.668101e-08 reg 1.000000e+03 train accuracy: 0.115592 val accuracy: 0.126000\n",
      "lr 1.668101e-08 reg 1.000000e+04 train accuracy: 0.092020 val accuracy: 0.086000\n",
      "lr 1.668101e-08 reg 1.000000e+05 train accuracy: 0.114327 val accuracy: 0.118000\n",
      "lr 1.668101e-08 reg 1.000000e+06 train accuracy: 0.137694 val accuracy: 0.143000\n",
      "lr 2.782559e-06 reg 1.000000e-03 train accuracy: 0.273551 val accuracy: 0.255000\n",
      "lr 2.782559e-06 reg 1.000000e-02 train accuracy: 0.270571 val accuracy: 0.263000\n",
      "lr 2.782559e-06 reg 1.000000e-01 train accuracy: 0.261082 val accuracy: 0.272000\n",
      "lr 2.782559e-06 reg 1.000000e+00 train accuracy: 0.260163 val accuracy: 0.275000\n",
      "lr 2.782559e-06 reg 1.000000e+01 train accuracy: 0.268816 val accuracy: 0.259000\n",
      "lr 2.782559e-06 reg 1.000000e+02 train accuracy: 0.273694 val accuracy: 0.275000\n",
      "lr 2.782559e-06 reg 1.000000e+03 train accuracy: 0.286980 val accuracy: 0.292000\n",
      "lr 2.782559e-06 reg 1.000000e+04 train accuracy: 0.330837 val accuracy: 0.338000\n",
      "lr 2.782559e-06 reg 1.000000e+05 train accuracy: 0.286122 val accuracy: 0.302000\n",
      "lr 2.782559e-06 reg 1.000000e+06 train accuracy: 0.117082 val accuracy: 0.099000\n",
      "lr 4.641589e-04 reg 1.000000e-03 train accuracy: 0.229714 val accuracy: 0.234000\n",
      "lr 4.641589e-04 reg 1.000000e-02 train accuracy: 0.232980 val accuracy: 0.235000\n",
      "lr 4.641589e-04 reg 1.000000e-01 train accuracy: 0.273204 val accuracy: 0.267000\n",
      "lr 4.641589e-04 reg 1.000000e+00 train accuracy: 0.255449 val accuracy: 0.236000\n",
      "lr 4.641589e-04 reg 1.000000e+01 train accuracy: 0.267694 val accuracy: 0.269000\n",
      "lr 4.641589e-04 reg 1.000000e+02 train accuracy: 0.261510 val accuracy: 0.271000\n",
      "lr 4.641589e-04 reg 1.000000e+03 train accuracy: 0.119245 val accuracy: 0.110000\n",
      "lr 4.641589e-04 reg 1.000000e+04 train accuracy: 0.083286 val accuracy: 0.084000\n",
      "lr 4.641589e-04 reg 1.000000e+05 train accuracy: 0.090367 val accuracy: 0.096000\n",
      "lr 4.641589e-04 reg 1.000000e+06 train accuracy: 0.087776 val accuracy: 0.086000\n",
      "lr 7.742637e-02 reg 1.000000e-03 train accuracy: 0.201592 val accuracy: 0.197000\n",
      "lr 7.742637e-02 reg 1.000000e-02 train accuracy: 0.299306 val accuracy: 0.292000\n",
      "lr 7.742637e-02 reg 1.000000e-01 train accuracy: 0.218510 val accuracy: 0.217000\n",
      "lr 7.742637e-02 reg 1.000000e+00 train accuracy: 0.180857 val accuracy: 0.190000\n",
      "lr 7.742637e-02 reg 1.000000e+01 train accuracy: 0.106653 val accuracy: 0.100000\n",
      "lr 7.742637e-02 reg 1.000000e+02 train accuracy: 0.065735 val accuracy: 0.085000\n",
      "lr 7.742637e-02 reg 1.000000e+03 train accuracy: 0.059633 val accuracy: 0.051000\n",
      "lr 7.742637e-02 reg 1.000000e+04 train accuracy: 0.058918 val accuracy: 0.065000\n",
      "lr 7.742637e-02 reg 1.000000e+05 train accuracy: 0.100265 val accuracy: 0.087000\n",
      "lr 7.742637e-02 reg 1.000000e+06 train accuracy: 0.100265 val accuracy: 0.087000\n",
      "lr 1.291550e+01 reg 1.000000e-03 train accuracy: 0.242918 val accuracy: 0.238000\n",
      "lr 1.291550e+01 reg 1.000000e-02 train accuracy: 0.173612 val accuracy: 0.200000\n",
      "lr 1.291550e+01 reg 1.000000e-01 train accuracy: 0.113878 val accuracy: 0.103000\n",
      "lr 1.291550e+01 reg 1.000000e+00 train accuracy: 0.051102 val accuracy: 0.064000\n",
      "lr 1.291550e+01 reg 1.000000e+01 train accuracy: 0.072633 val accuracy: 0.075000\n",
      "lr 1.291550e+01 reg 1.000000e+02 train accuracy: 0.100265 val accuracy: 0.087000\n",
      "lr 1.291550e+01 reg 1.000000e+03 train accuracy: 0.100265 val accuracy: 0.087000\n",
      "lr 1.291550e+01 reg 1.000000e+04 train accuracy: 0.100265 val accuracy: 0.087000\n",
      "lr 1.291550e+01 reg 1.000000e+05 train accuracy: 0.100265 val accuracy: 0.087000\n",
      "lr 1.291550e+01 reg 1.000000e+06 train accuracy: 0.100265 val accuracy: 0.087000\n",
      "lr 2.154435e+03 reg 1.000000e-03 train accuracy: 0.062184 val accuracy: 0.053000\n",
      "lr 2.154435e+03 reg 1.000000e-02 train accuracy: 0.112041 val accuracy: 0.101000\n",
      "lr 2.154435e+03 reg 1.000000e-01 train accuracy: 0.055061 val accuracy: 0.061000\n",
      "lr 2.154435e+03 reg 1.000000e+00 train accuracy: 0.100265 val accuracy: 0.087000\n",
      "lr 2.154435e+03 reg 1.000000e+01 train accuracy: 0.100265 val accuracy: 0.087000\n",
      "lr 2.154435e+03 reg 1.000000e+02 train accuracy: 0.100265 val accuracy: 0.087000\n",
      "lr 2.154435e+03 reg 1.000000e+03 train accuracy: 0.100265 val accuracy: 0.087000\n",
      "lr 2.154435e+03 reg 1.000000e+04 train accuracy: 0.100265 val accuracy: 0.087000\n",
      "lr 2.154435e+03 reg 1.000000e+05 train accuracy: 0.100265 val accuracy: 0.087000\n",
      "lr 2.154435e+03 reg 1.000000e+06 train accuracy: 0.100265 val accuracy: 0.087000\n",
      "lr 3.593814e+05 reg 1.000000e-03 train accuracy: 0.063469 val accuracy: 0.048000\n",
      "lr 3.593814e+05 reg 1.000000e-02 train accuracy: 0.100265 val accuracy: 0.087000\n",
      "lr 3.593814e+05 reg 1.000000e-01 train accuracy: 0.100265 val accuracy: 0.087000\n",
      "lr 3.593814e+05 reg 1.000000e+00 train accuracy: 0.100265 val accuracy: 0.087000\n",
      "lr 3.593814e+05 reg 1.000000e+01 train accuracy: 0.100265 val accuracy: 0.087000\n",
      "lr 3.593814e+05 reg 1.000000e+02 train accuracy: 0.100265 val accuracy: 0.087000\n",
      "lr 3.593814e+05 reg 1.000000e+03 train accuracy: 0.100265 val accuracy: 0.087000\n",
      "lr 3.593814e+05 reg 1.000000e+04 train accuracy: 0.100265 val accuracy: 0.087000\n",
      "lr 3.593814e+05 reg 1.000000e+05 train accuracy: 0.100265 val accuracy: 0.087000\n",
      "lr 3.593814e+05 reg 1.000000e+06 train accuracy: 0.100265 val accuracy: 0.087000\n",
      "lr 5.994843e+07 reg 1.000000e-03 train accuracy: 0.100265 val accuracy: 0.087000\n",
      "lr 5.994843e+07 reg 1.000000e-02 train accuracy: 0.100265 val accuracy: 0.087000\n",
      "lr 5.994843e+07 reg 1.000000e-01 train accuracy: 0.100265 val accuracy: 0.087000\n",
      "lr 5.994843e+07 reg 1.000000e+00 train accuracy: 0.100265 val accuracy: 0.087000\n",
      "lr 5.994843e+07 reg 1.000000e+01 train accuracy: 0.100265 val accuracy: 0.087000\n",
      "lr 5.994843e+07 reg 1.000000e+02 train accuracy: 0.100265 val accuracy: 0.087000\n",
      "lr 5.994843e+07 reg 1.000000e+03 train accuracy: 0.100265 val accuracy: 0.087000\n",
      "lr 5.994843e+07 reg 1.000000e+04 train accuracy: 0.100265 val accuracy: 0.087000\n",
      "lr 5.994843e+07 reg 1.000000e+05 train accuracy: 0.100265 val accuracy: 0.087000\n",
      "lr 5.994843e+07 reg 1.000000e+06 train accuracy: 0.100265 val accuracy: 0.087000\n",
      "lr 1.000000e+10 reg 1.000000e-03 train accuracy: 0.100265 val accuracy: 0.087000\n",
      "lr 1.000000e+10 reg 1.000000e-02 train accuracy: 0.100265 val accuracy: 0.087000\n",
      "lr 1.000000e+10 reg 1.000000e-01 train accuracy: 0.100265 val accuracy: 0.087000\n",
      "lr 1.000000e+10 reg 1.000000e+00 train accuracy: 0.100265 val accuracy: 0.087000\n",
      "lr 1.000000e+10 reg 1.000000e+01 train accuracy: 0.100265 val accuracy: 0.087000\n",
      "lr 1.000000e+10 reg 1.000000e+02 train accuracy: 0.100265 val accuracy: 0.087000\n",
      "lr 1.000000e+10 reg 1.000000e+03 train accuracy: 0.100265 val accuracy: 0.087000\n",
      "lr 1.000000e+10 reg 1.000000e+04 train accuracy: 0.100265 val accuracy: 0.087000\n",
      "lr 1.000000e+10 reg 1.000000e+05 train accuracy: 0.100265 val accuracy: 0.087000\n",
      "lr 1.000000e+10 reg 1.000000e+06 train accuracy: 0.100265 val accuracy: 0.087000\n",
      "best validation accuracy achieved during cross-validation: 0.338000\n"
     ]
    }
   ],
   "source": [
    "# Use the validation set to tune hyperparameters (regularization strength and\n",
    "# learning rate). You should experiment with different ranges for the learning\n",
    "# rates and regularization strengths; if you are careful you should be able to\n",
    "# get a classification accuracy of over 0.35 on the validation set.\n",
    "from cs231n.classifiers import Softmax\n",
    "results = {}\n",
    "best_val = -1\n",
    "best_softmax = None\n",
    "learning_rates = np.logspace(-10, 10, 10)\n",
    "regularization_strengths = np.logspace(-3, 6, 10)\n",
    "\n",
    "################################################################################\n",
    "# TODO:                                                                        #\n",
    "# Use the validation set to set the learning rate and regularization strength. #\n",
    "# This should be identical to the validation that you did for the SVM; save    #\n",
    "# the best trained softmax classifer in best_softmax.                          #\n",
    "################################################################################\n",
    "for lr in learning_rates:\n",
    "    for reg in regularization_strengths:\n",
    "        softmax = Softmax()\n",
    "        softmax.train(X_train,y_train,learning_rate=lr,reg=reg)\n",
    "        train_accuracy = np.mean(y_train==softmax.predict(X_train))\n",
    "        validate_accuracy = np.mean(y_val==softmax.predict(X_val))\n",
    "        results[(lr,reg)] = (train_accuracy,validate_accuracy)\n",
    "        if best_val < validate_accuracy:\n",
    "            best_val = validate_accuracy\n",
    "            best_softmax = softmax\n",
    "        \n",
    "lr,reg = sorted(results)[0]\n",
    "best_softmax.train(X_train,y_train,lr,reg,1500)\n",
    "################################################################################\n",
    "#                              END OF YOUR CODE                                #\n",
    "################################################################################\n",
    "    \n",
    "# Print out results.\n",
    "for lr, reg in sorted(results):\n",
    "    train_accuracy, val_accuracy = results[(lr, reg)]\n",
    "    print 'lr %e reg %e train accuracy: %f val accuracy: %f' % (\n",
    "                lr, reg, train_accuracy, val_accuracy)\n",
    "    \n",
    "print 'best validation accuracy achieved during cross-validation: %f' % best_val"
   ]
  },
  {
   "cell_type": "code",
   "execution_count": 8,
   "metadata": {
    "collapsed": false
   },
   "outputs": [
    {
     "name": "stdout",
     "output_type": "stream",
     "text": [
      "softmax on raw pixels final test set accuracy: 0.333000\n"
     ]
    }
   ],
   "source": [
    "# evaluate on test set\n",
    "# Evaluate the best softmax on test set\n",
    "y_test_pred = best_softmax.predict(X_test)\n",
    "test_accuracy = np.mean(y_test == y_test_pred)\n",
    "print 'softmax on raw pixels final test set accuracy: %f' % (test_accuracy, )"
   ]
  },
  {
   "cell_type": "code",
   "execution_count": 9,
   "metadata": {
    "collapsed": false
   },
   "outputs": [
    {
     "data": {
      "image/png": "[encoded data removed]",
      "text/plain": [
       "<matplotlib.figure.Figure at 0x1045ac7d0>"
      ]
     },
     "metadata": {},
     "output_type": "display_data"
    }
   ],
   "source": [
    "# Visualize the learned weights for each class\n",
    "w = best_softmax.W[:-1,:] # strip out the bias\n",
    "w = w.reshape(32, 32, 3, 10)\n",
    "\n",
    "w_min, w_max = np.min(w), np.max(w)\n",
    "\n",
    "classes = ['plane', 'car', 'bird', 'cat', 'deer', 'dog', 'frog', 'horse', 'ship', 'truck']\n",
    "for i in xrange(10):\n",
    "  plt.subplot(2, 5, i + 1)\n",
    "  \n",
    "  # Rescale the weights to be between 0 and 255\n",
    "  wimg = 255.0 * (w[:, :, :, i].squeeze() - w_min) / (w_max - w_min)\n",
    "  plt.imshow(wimg.astype('uint8'))\n",
    "  plt.axis('off')\n",
    "  plt.title(classes[i])"
   ]
  }
 ],
 "metadata": {
  "kernelspec": {
   "display_name": "Python 2",
   "language": "python",
   "name": "python2"
  },
  "language_info": {
   "codemirror_mode": {
    "name": "ipython",
    "version": 2
   },
   "file_extension": ".py",
   "mimetype": "text/x-python",
   "name": "python",
   "nbconvert_exporter": "python",
   "pygments_lexer": "ipython2",
   "version": "2.7.11"
  }
 },
 "nbformat": 4,
 "nbformat_minor": 0
}
